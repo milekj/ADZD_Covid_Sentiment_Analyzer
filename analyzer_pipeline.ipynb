{
 "cells": [
  {
   "cell_type": "code",
   "execution_count": 1,
   "metadata": {},
   "outputs": [],
   "source": [
    "import requests\n",
    "from google.cloud import translate\n",
    "from google.cloud import language_v1\n",
    "from google.oauth2 import service_account"
   ]
  },
  {
   "cell_type": "code",
   "execution_count": 9,
   "metadata": {},
   "outputs": [],
   "source": [
    "# Twitter:\n",
    "bearer = open(\"./bearer_token.txt\").read().strip()\n",
    "\n",
    "# Google cloud:\n",
    "PROJECT_ID = open(\"project_id.txt\").read().strip()\n",
    "parent=f\"projects/{PROJECT_ID}/locations/global\"\n",
    "credentials = service_account.Credentials.from_service_account_file('credentials.json')\n",
    "\n",
    "client = language_v1.LanguageServiceClient(credentials=credentials)\n",
    "translate_client = translate.TranslationServiceClient(credentials=credentials)"
   ]
  },
  {
   "cell_type": "code",
   "execution_count": 10,
   "metadata": {},
   "outputs": [],
   "source": [
    "text_type = language_v1.Document.Type.PLAIN_TEXT\n",
    "language = \"en\"\n",
    "encoding_type = language_v1.EncodingType.UTF8"
   ]
  },
  {
   "cell_type": "code",
   "execution_count": 45,
   "metadata": {},
   "outputs": [],
   "source": [
    "def run_pipeline(language=\"pl\", translate_client=translate_client, sentiment_client=client, parent=parent):\n",
    "    tweets = get_tweets(lang=language)\n",
    "    if language == \"en\":\n",
    "        return get_sentiments(tweets)\n",
    "    \n",
    "    translations = translate_tweets(tweets, language=language)\n",
    "    sentiments = get_sentiments(translations)\n",
    "    return sentiments\n",
    "    \n",
    "    \n",
    "def translate_tweets(tweets, language=\"pl\", translate_client=translate_client):\n",
    "    r_translate = translate_client.translate_text(request = {\n",
    "        \"parent\": parent,\n",
    "        \"contents\": tweets,\n",
    "        \"source_language_code\": language,\n",
    "        \"target_language_code\": 'en',\n",
    "        \"mime_type\": 'text/plain'\n",
    "    })\n",
    "    return [r.translated_text for r in r_translate.translations]\n",
    "    \n",
    "    \n",
    "def get_sentiments(translations, sentiment_client=client):\n",
    "    sentiments = []\n",
    "    for text in translations:\n",
    "        document = {\"content\": text, \"type_\": text_type, \"language\": language}\n",
    "        response = client.analyze_sentiment(request = {'document': document, 'encoding_type': encoding_type})\n",
    "        sentiments.append(int(response.document_sentiment.score>0))\n",
    "    return sentiments\n",
    "\n",
    "\n",
    "\n",
    "def get_tweets(hashtags=[\"covid\"], keywords=[], lang=\"pl\", bearer=bearer, no_retweets=True, additional=\"\", max_results=10):\n",
    "    endpoint = f\"https://api.twitter.com/2/tweets/search/recent?query=\"\n",
    "    \n",
    "    for h in hashtags:\n",
    "        endpoint += \"%23\"+h+\" \"\n",
    "        \n",
    "    for k in keywords:\n",
    "        endpoint += k+\" \"\n",
    "    \n",
    "    endpoint += \"lang:\"+lang+\" \"\n",
    "    \n",
    "    if no_retweets:\n",
    "        endpoint += \"-is:retweet \"\n",
    "    \n",
    "    endpoint += additional+\" \"\n",
    "    \n",
    "    headers = {\"Authorization\": f\"Bearer {bearer}\"}\n",
    "    \n",
    "    endpoint += f\"&max_results={max_results}\"\n",
    "    r = requests.get(endpoint.encode(\"utf-8\"), headers=headers).json()\n",
    "    return [data[\"text\"] for data in r['data']]"
   ]
  },
  {
   "cell_type": "markdown",
   "metadata": {},
   "source": [
    "# Demo"
   ]
  },
  {
   "cell_type": "code",
   "execution_count": 12,
   "metadata": {},
   "outputs": [],
   "source": [
    "r = get_tweets()"
   ]
  },
  {
   "cell_type": "code",
   "execution_count": 13,
   "metadata": {},
   "outputs": [
    {
     "data": {
      "text/plain": [
       "['@rzeczpospolita @tterlikowski #COVID-19 szczepienia poza kolejnością. Drodzy #celebryci, nie frasujcie się, dupka do góry! Już wkrótce może sam #Prezes #PiS #Kaczyński ogłosi amnestię, udzieli dyspensy, bo nie sposób powstrzymać od szczepień wielkiej armii #TerazKurwaMy!',\n",
       " 'W kolejce na test na #COVID  jeszcze kilka aut przede mną. https://t.co/TIkCxfh6gF',\n",
       " 'Dezinformacja jest ich mieczem.\\nA Informacja, nasza tarcza.\\n#covid #cowid #znakowaniebydla #rfidchip #czip #kryptowaluta #cryptocurrencyNWO #RESET #NewWorldOrder #nowarzeczywistosc #nowanormalnosc',\n",
       " '@rzeczpospolita #COVID-19 szczepienia poza kolejnością. Drodzy #celebryci, nie frasujcie się, dupka do góry! Już wkrótce może sam #Prezes #PiS #Kaczyński ogłosi amnestię, udzieli dyspensy, bo nie sposób powstrzymać od szczepień wielkiej armii #TerazKurwaMy!',\n",
       " 'Informacja Prezesa Urzędu z dnia 09.01.2021 r. o publikacji w językach narodowych UE decyzji Komisji Europejskiej dotyczącej dopuszczenia do obrotu na terytorium UE szczepionki #COVID-19 Vaccine Moderna firmy MODERNA BIOTECH SPAIN, S.L. ➡️https://t.co/4IQZGv9niV https://t.co/jIZvB4cGYc',\n",
       " '#Szczepienia na #COVID w Polsce. XIX wiek w komunikacji zamiast \\u2066#Polskacyfrowa Listonosze, telefony (już widzę ile zajmie dodzwonienie się), papierowe zaświadczenia. A gdzie \\u2066#EPUAP, etc? #legaltech Pomimo porażki wyborów z \\u2066@PocztaPolska\\u2069  https://t.co/F91jdPjtaP',\n",
       " '‼️59937 nowych przypadków #Covid w UK 1035🖤🖤🖤 https://t.co/FmVsbnrUgM',\n",
       " '@KrzysztofLanda I nie do wykonania zwłaszcza w czasie obecnego kryzysu #Covid - jeśli tak chcą reformować szpitale powiatowe jak radzą sobie z zarządzaniem szpitalami tymczasowymi to nie mam pytań o efekty.',\n",
       " '@Pawe13186963 A dlaczego? Mnie nie trzeba zachęcać, jestem zachęcony i gotowy 💉 #szczepimysie #covid',\n",
       " '@DoRzeczy_pl Totalna żenada! i kogo rektorzy bronią? celebrytów, biznesmenów, @tvn24 i esbeków, którzy wepchnęli się poza kolejką do #szczepienia #COVID? Rektor #WUM  jakby był człowiekiem honoru, to podałby się do dymisji, a nie szukał wsparcia u kolegów @UniWarszawski @PW_edu @AkademiaSzWoj']"
      ]
     },
     "execution_count": 13,
     "metadata": {},
     "output_type": "execute_result"
    }
   ],
   "source": [
    "r"
   ]
  },
  {
   "cell_type": "code",
   "execution_count": 14,
   "metadata": {},
   "outputs": [],
   "source": [
    "t = translate_tweets(r, language=\"pl\")"
   ]
  },
  {
   "cell_type": "code",
   "execution_count": 15,
   "metadata": {},
   "outputs": [
    {
     "data": {
      "text/plain": [
       "[\"@rzeczpospolita @tterlikowski # COVID-19 vaccinations out of sequence. Dear #celebrities, don't worry, asshole up! Soon, #PiS #PiS # Kaczyński himself may announce an amnesty, grant dispensation, because it is impossible to stop the great army #TerazKurwaMy from vaccinating!\",\n",
       " 'There are still a few cars ahead of me for the #COVID test. https://t.co/TIkCxfh6gF',\n",
       " 'Disinformation is their sword.\\nA Information, our shield.\\n#covid #cowid #znakowaniebydla #rfidchip #czip #cryptocurrency #cryptocurrencyNWO #RESET #NewWorldOrder #nowarzeczyreal #nowanormalnosc',\n",
       " \"@rzeczpospolita # COVID-19 vaccinations out of sequence. Dear #celebrities, don't worry, asshole up! Soon, #PiS #PiS # Kaczyński himself may announce an amnesty, grant dispensation, because it is impossible to stop the great army #TerazKurwaMy from vaccinating!\",\n",
       " 'Information of the President of the Office of January 9, 2021 on the publication in the EU national languages of the decision of the European Commission regarding the admission to the market in the EU of the vaccine # COVID-19 Vaccine Moderna by MODERNA BIOTECH SPAIN, S.L. ➡️https: //t.co/4IQZGv9niV https://t.co/jIZvB4cGYc',\n",
       " '#Vaccination on #COVID in Poland. 19th century in communication instead of #Polskacyfrowa Postman, telephones (I can already see how long it will take to get through), paper certificates. Where is #EPUAP, etc? #legaltech Despite the failure of the election with @PocztaPolska https://t.co/F91jdPjtaP',\n",
       " '‼ ️59937 new #Covid cases in UK 1035🖤🖤🖤 https://t.co/FmVsbnrUgM',\n",
       " '@KrzysztofLanda And not feasible, especially during the current crisis #Covid - if they want to reform poviat hospitals how they deal with the management of temporary hospitals, I have no questions about the results.',\n",
       " \"@ Pawe13186963 And why? I don't need to be encouraged, I'm encouraged and ready 💉 #szczepimysie #covid\",\n",
       " '@DoRzeczy_pl Totalna żenada! and who are the rectors defending? celebrities, businessmen, @ tvn24 and security men who crashed out of the queue to #vaccinate #COVID? Rector of #WUM if he were a man of honor, he would resign, and would not seek support from his colleagues @UniWarszawski @PW_edu @AkademiaSzWoj']"
      ]
     },
     "execution_count": 15,
     "metadata": {},
     "output_type": "execute_result"
    }
   ],
   "source": [
    "t"
   ]
  },
  {
   "cell_type": "code",
   "execution_count": 16,
   "metadata": {},
   "outputs": [],
   "source": [
    "s = get_sentiments(t)"
   ]
  },
  {
   "cell_type": "code",
   "execution_count": 17,
   "metadata": {},
   "outputs": [
    {
     "data": {
      "text/plain": [
       "[1, 1, 0, 1, 0, 0, 1, 0, 0, 0]"
      ]
     },
     "execution_count": 17,
     "metadata": {},
     "output_type": "execute_result"
    }
   ],
   "source": [
    "s"
   ]
  },
  {
   "cell_type": "code",
   "execution_count": 18,
   "metadata": {},
   "outputs": [],
   "source": [
    "def get_name(n):\n",
    "    if n==1:\n",
    "        return \"Positive\"\n",
    "    return \"Negative\""
   ]
  },
  {
   "cell_type": "code",
   "execution_count": 19,
   "metadata": {},
   "outputs": [],
   "source": [
    "summary = [f\"Original tweet: {tweet}\\n Translated tweet: {translation}\\n Sentiment: {get_name(sentiment)}\" for tweet, translation, sentiment in zip(r, t, s)]"
   ]
  },
  {
   "cell_type": "code",
   "execution_count": 20,
   "metadata": {},
   "outputs": [
    {
     "name": "stdout",
     "output_type": "stream",
     "text": [
      "Original tweet: @rzeczpospolita @tterlikowski #COVID-19 szczepienia poza kolejnością. Drodzy #celebryci, nie frasujcie się, dupka do góry! Już wkrótce może sam #Prezes #PiS #Kaczyński ogłosi amnestię, udzieli dyspensy, bo nie sposób powstrzymać od szczepień wielkiej armii #TerazKurwaMy!\n",
      " Translated tweet: @rzeczpospolita @tterlikowski # COVID-19 vaccinations out of sequence. Dear #celebrities, don't worry, asshole up! Soon, #PiS #PiS # Kaczyński himself may announce an amnesty, grant dispensation, because it is impossible to stop the great army #TerazKurwaMy from vaccinating!\n",
      " Sentiment: Positive\n",
      "\n",
      "Original tweet: W kolejce na test na #COVID  jeszcze kilka aut przede mną. https://t.co/TIkCxfh6gF\n",
      " Translated tweet: There are still a few cars ahead of me for the #COVID test. https://t.co/TIkCxfh6gF\n",
      " Sentiment: Positive\n",
      "\n",
      "Original tweet: Dezinformacja jest ich mieczem.\n",
      "A Informacja, nasza tarcza.\n",
      "#covid #cowid #znakowaniebydla #rfidchip #czip #kryptowaluta #cryptocurrencyNWO #RESET #NewWorldOrder #nowarzeczywistosc #nowanormalnosc\n",
      " Translated tweet: Disinformation is their sword.\n",
      "A Information, our shield.\n",
      "#covid #cowid #znakowaniebydla #rfidchip #czip #cryptocurrency #cryptocurrencyNWO #RESET #NewWorldOrder #nowarzeczyreal #nowanormalnosc\n",
      " Sentiment: Negative\n",
      "\n",
      "Original tweet: @rzeczpospolita #COVID-19 szczepienia poza kolejnością. Drodzy #celebryci, nie frasujcie się, dupka do góry! Już wkrótce może sam #Prezes #PiS #Kaczyński ogłosi amnestię, udzieli dyspensy, bo nie sposób powstrzymać od szczepień wielkiej armii #TerazKurwaMy!\n",
      " Translated tweet: @rzeczpospolita # COVID-19 vaccinations out of sequence. Dear #celebrities, don't worry, asshole up! Soon, #PiS #PiS # Kaczyński himself may announce an amnesty, grant dispensation, because it is impossible to stop the great army #TerazKurwaMy from vaccinating!\n",
      " Sentiment: Positive\n",
      "\n"
     ]
    }
   ],
   "source": [
    "for s in summary[:4]:\n",
    "    print(s)\n",
    "    print()"
   ]
  },
  {
   "cell_type": "markdown",
   "metadata": {},
   "source": [
    "# Whole pipeline:"
   ]
  },
  {
   "cell_type": "markdown",
   "metadata": {},
   "source": [
    "### Sentiments in Poland:"
   ]
  },
  {
   "cell_type": "code",
   "execution_count": 21,
   "metadata": {},
   "outputs": [
    {
     "data": {
      "text/plain": [
       "[1, 1, 0, 1, 0, 0, 1, 0, 0, 0]"
      ]
     },
     "execution_count": 21,
     "metadata": {},
     "output_type": "execute_result"
    }
   ],
   "source": [
    "run_pipeline()"
   ]
  },
  {
   "cell_type": "markdown",
   "metadata": {},
   "source": [
    "### Sentiments in Spain:"
   ]
  },
  {
   "cell_type": "code",
   "execution_count": 22,
   "metadata": {},
   "outputs": [
    {
     "data": {
      "text/plain": [
       "[0, 0, 0, 0, 1, 0, 1, 1, 0, 1]"
      ]
     },
     "execution_count": 22,
     "metadata": {},
     "output_type": "execute_result"
    }
   ],
   "source": [
    "run_pipeline('es')"
   ]
  },
  {
   "cell_type": "markdown",
   "metadata": {},
   "source": [
    "## Languages\n",
    "English (default) en  \n",
    "Arabic  ar  \n",
    "Bengali bn  \n",
    "Czech cs  \n",
    "Danish  da  \n",
    "German  de  \n",
    "Greek el  \n",
    "Spanish es  \n",
    "Persian fa  \n",
    "Finnish fi  \n",
    "Filipino  fil  \n",
    "French  fr  \n",
    "Hebrew  he  \n",
    "Hindi hi  \n",
    "Hungarian hu  \n",
    "Indonesian  id  \n",
    "Italian it  \n",
    "Japanese  ja  \n",
    "Korean  ko  \n",
    "Malay msa  \n",
    "Dutch nl  \n",
    "Norwegian no  \n",
    "Polish  pl  \n",
    "Portuguese  pt  \n",
    "Romanian  ro  \n",
    "Russian ru  \n",
    "Swedish sv  \n",
    "Thai  th  \n",
    "Turkish tr  \n",
    "Ukrainian uk  \n",
    "Urdu  ur  \n",
    "Vietnamese  vi  \n",
    "Chinese (Simplified)  zh-cn  \n",
    "Chinese (Traditional) zh-tw  "
   ]
  },
  {
   "cell_type": "code",
   "execution_count": 23,
   "metadata": {},
   "outputs": [],
   "source": [
    "import time\n",
    "from IPython.display import clear_output\n",
    "import pandas as pd\n",
    "import matplotlib.pyplot as plt \n",
    "import seaborn as sns\n",
    "sns.set_style(\"whitegrid\")"
   ]
  },
  {
   "cell_type": "code",
   "execution_count": 46,
   "metadata": {},
   "outputs": [],
   "source": [
    "def plot_sentiments(results):\n",
    "    formatted_data = []\n",
    "    columns=[\"country\", \"percentPos\", \"percentNeg\"]\n",
    "    \n",
    "    for language, data in results.items():\n",
    "        percPos = data[1]*100/data[0]\n",
    "        formatted_data.append((language, percPos, 100-percPos))\n",
    "        \n",
    "    df = pd.DataFrame(formatted_data, columns=columns)\n",
    "    \n",
    "    df.plot( \n",
    "      x = 'country',  \n",
    "      kind = 'barh',  \n",
    "      stacked = True,  \n",
    "      title = 'Sentiment for tweets with hashtag COVID per country',\n",
    "      mark_right = True,\n",
    "     figsize=(14,8))\n",
    "    plt.legend([\"Percent of positive tweets\", \"Percent of negative tweets\"])\n",
    "    \n",
    "    "
   ]
  },
  {
   "cell_type": "code",
   "execution_count": 47,
   "metadata": {},
   "outputs": [],
   "source": [
    "def analyze_twitter(languages, streaming=False):\n",
    "    results = {}\n",
    "    \n",
    "    while True:\n",
    "        clear_output(wait=True)\n",
    "        for language in languages:\n",
    "            sentiments = run_pipeline(language=language)\n",
    "            if language not in results:\n",
    "                results[language] = [0, 0]\n",
    "\n",
    "            results[language][0] += len(sentiments)\n",
    "            results[language][1] += sum(sentiments)\n",
    "            \n",
    "        plot_sentiments(results)\n",
    "        if not streaming:\n",
    "            return\n",
    "        plt.show()\n",
    "        time.sleep(10)"
   ]
  },
  {
   "cell_type": "code",
   "execution_count": 48,
   "metadata": {},
   "outputs": [
    {
     "data": {
      "image/png": "[encoded data removed]",
      "text/plain": [
       "<Figure size 1008x576 with 1 Axes>"
      ]
     },
     "metadata": {},
     "output_type": "display_data"
    }
   ],
   "source": [
    "analyze_twitter(['pl', 'es', 'en'])"
   ]
  },
  {
   "cell_type": "code",
   "execution_count": null,
   "metadata": {},
   "outputs": [],
   "source": [
    "analyze_twitter(['pl', 'es'], streaming=True)\n"
   ]
  },
  {
   "cell_type": "code",
   "execution_count": null,
   "metadata": {},
   "outputs": [],
   "source": []
  }
 ],
 "metadata": {
  "kernelspec": {
   "display_name": "Python 3",
   "language": "python",
   "name": "python3"
  },
  "language_info": {
   "codemirror_mode": {
    "name": "ipython",
    "version": 3
   },
   "file_extension": ".py",
   "mimetype": "text/x-python",
   "name": "python",
   "nbconvert_exporter": "python",
   "pygments_lexer": "ipython3",
   "version": "3.7.3"
  }
 },
 "nbformat": 4,
 "nbformat_minor": 4
}
