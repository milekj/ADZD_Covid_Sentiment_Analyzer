{
 "cells": [
  {
   "cell_type": "code",
   "execution_count": 27,
   "metadata": {},
   "outputs": [],
   "source": [
    "import requests\n",
    "from google.cloud import translate\n",
    "from google.cloud import language_v1\n",
    "from google.oauth2 import service_account"
   ]
  },
  {
   "cell_type": "code",
   "execution_count": 28,
   "metadata": {},
   "outputs": [],
   "source": [
    "# Twitter:\n",
    "bearer = open(\"./bearer_token.txt\").read().strip()\n",
    "\n",
    "# Google cloud:\n",
    "PROJECT_ID = open(\"project_id.txt\").read().strip()\n",
    "parent=f\"projects/{PROJECT_ID}/locations/global\"\n",
    "credentials = service_account.Credentials.from_service_account_file('credentials.json')\n",
    "\n",
    "client = language_v1.LanguageServiceClient(credentials=credentials)\n",
    "translate_client = translate.TranslationServiceClient(credentials=credentials)"
   ]
  },
  {
   "cell_type": "code",
   "execution_count": 29,
   "metadata": {},
   "outputs": [],
   "source": [
    "text_type = language_v1.Document.Type.PLAIN_TEXT\n",
    "language = \"en\"\n",
    "encoding_type = language_v1.EncodingType.UTF8"
   ]
  },
  {
   "cell_type": "code",
   "execution_count": 224,
   "metadata": {},
   "outputs": [],
   "source": [
    "def run_pipeline(hashtags=[\"covid\"], language=\"pl\", translate_client=translate_client, sentiment_client=client, parent=parent, max_results=10):\n",
    "    tweets = get_tweets(lang=language, hashtags=hashtags, max_results=max_results)\n",
    "    if language == \"en\":\n",
    "        return get_sentiments(tweets, tweets)\n",
    "    \n",
    "    translations = translate_tweets(tweets, language=language)\n",
    "    sentiments = get_sentiments(tweets, translations)\n",
    "    return sentiments\n",
    "    \n",
    "    \n",
    "def translate_tweets(tweets, language=\"pl\", translate_client=translate_client):\n",
    "    r_translate = translate_client.translate_text(request = {\n",
    "        \"parent\": parent,\n",
    "        \"contents\": tweets,\n",
    "        \"source_language_code\": language,\n",
    "        \"target_language_code\": 'en',\n",
    "        \"mime_type\": 'text/plain'\n",
    "    })\n",
    "    return [r.translated_text for r in r_translate.translations]\n",
    "    \n",
    "    \n",
    "def get_sentiments(tweets, translations, sentiment_client=client):\n",
    "    results = []\n",
    "    sentiments = []\n",
    "    for text in translations:\n",
    "        document = {\"content\": text, \"type_\": text_type, \"language\": language}\n",
    "        response = client.analyze_sentiment(request = {'document': document, 'encoding_type': encoding_type})\n",
    "        results.append(response)\n",
    "        decision = 1 if response.document_sentiment.score > 0.1 else \\\n",
    "                   0 if response.document_sentiment.score >= -0.1 else \\\n",
    "                   -1        \n",
    "        sentiments.append(decision)\n",
    "    sentences = [sentence for r in results for sentence in r.sentences]\n",
    "    mostPosId, mostPosRes = max(enumerate(results), key = lambda d: d[1].document_sentiment.score)\n",
    "    mostNegId, mostNegRes = min(enumerate(results), key = lambda d: d[1].document_sentiment.score)\n",
    "    return {\n",
    "        'sentiments' : sentiments,\n",
    "        'mostPositiveText': (mostPosRes, tweets[mostPosId], translations[mostPosId]),\n",
    "        'mostNegativeText': (mostNegRes, tweets[mostNegId], translations[mostNegId]),\n",
    "        'mostPositiveSentence': max(sentences, key = lambda s: s.sentiment.score),\n",
    "        'mostNegativeSentence': min(sentences, key = lambda s: s.sentiment.score),\n",
    "    }\n",
    "\n",
    "def get_tweets(hashtags=[\"covid\", \"coronavirus\", \"koronawirus\", \"pandemia\", \"pandemic\"], keywords=[], lang=\"pl\", bearer=bearer, no_retweets=True, additional=\"\", max_results=10):\n",
    "    endpoint = f\"https://api.twitter.com/2/tweets/search/recent?query=\"\n",
    "    \n",
    "    query = '(' + ' OR '.join(hashtags) + ') '\n",
    "    endpoint += query\n",
    "        \n",
    "    for k in keywords:\n",
    "        endpoint += k+\" \"\n",
    "    \n",
    "    endpoint += \"lang:\"+lang+\" \"\n",
    "    \n",
    "    if no_retweets:\n",
    "        endpoint += \"-is:retweet \"\n",
    "    \n",
    "    endpoint += additional+\" \"\n",
    "    \n",
    "    headers = {\"Authorization\": f\"Bearer {bearer}\"}\n",
    "    \n",
    "    endpoint += f\"&max_results={max_results}\"\n",
    "    r = requests.get(endpoint.encode(\"utf-8\"), headers=headers).json()\n",
    "    return [data[\"text\"] for data in r['data']]"
   ]
  },
  {
   "cell_type": "markdown",
   "metadata": {},
   "source": [
    "# Demo"
   ]
  },
  {
   "cell_type": "code",
   "execution_count": 50,
   "metadata": {},
   "outputs": [],
   "source": [
    "r = get_tweets()"
   ]
  },
  {
   "cell_type": "code",
   "execution_count": 32,
   "metadata": {},
   "outputs": [
    {
     "data": {
      "text/plain": [
       "['+ Do tego click &amp; collect ma być ograniczone tylko do najpotrzebniejszych artykułów, a jednym z nich ponoć NIE JEST kawa! 😡😡😡\\nAaa i jeszcze zakaz spożycia alkoholu poza domem. Całkowity.\\n\\n#KORONAWIRUS #COVID19 #Covid_19 #COVID #PANDEMIA #ZARAZA #LOCKDOWN #LockdownUK',\n",
       " 'A co tam słychać w europejskich więzieniach?\\n\\nW Szkocji Nicola Królowa Lockdownów zakazała wydawania posiłków na wynos w lokalach. Tylko przez próg, jak psu, lub przez okienko, jak w budce z kebabem.\\n\\n#KORONAWIRUS #COVID19 #Covid_19 #COVID #PANDEMIA #ZARAZA #LOCKDOWN #LockdownUK',\n",
       " 'W Chinach nie ma już #COVID, a pomimo tego mieszkańcy niektórych miast zamykani są na tydzień w domu i nadal noszą maseczki. #Chińczycy dmuchają na zimne? https://t.co/PDtbm5gt7Q',\n",
       " 'Osoby, które przyjęły pierwszą dawkę szczepionki @pfizer i @BioNTech_Group o 33% rzadziej otrzymują pozytywny wynik testu na obecność #koronawirus po 2 tygodniach od zaszczepienia od osób, które nie otrzymały podobnej ochrony.\\n\\n#COVID19 #COVID #Izrael\\nhttps://t.co/1GlEgSiHER',\n",
       " 'Tarcza 6.0 rozszerzyła możliwość zwolnienia ze składek za lipiec, sierpień i wrzesień 2020 r. na kolejnych przedsiębiorców.  \\n#tarcza #covid \\n\\nhttps://t.co/3H7lnGfvRE',\n",
       " 'Pracownicy ochrony zdrowia I linia frontu walki z #COVID-19 – zostaną objęci pomocą Zachodniopomorskiego Pakietu Antykryzysowego. Na ten cel Zarząd przeznaczy ponad 15 mln zł. @OGeblewicz @SejmikZachPom \\n@Miasto_Szczecin @radio_szczecin @PrezydentSz_n\\nhttps://t.co/NbMnnjyvd7',\n",
       " '#COVID - porównania międzynarodowe przy zachowaniu tej samej skali na osiach... https://t.co/MBZSHoMUI2',\n",
       " 'Czy ktos z mądrych tego świata może to skomentować? \\n\\nPs czekałem na takie wiadomości - za 2 tyg w Polsce zacznie się płacz na oddziałach #covid ze ludzie chorują mimo szczepionki?\\n\\n#szczepmysie \\n#Szczepienia \\n#szczepimysie \\n#szczepionki \\n\\nhttps://t.co/7mq0Brh0AD',\n",
       " '#Szczepienia na #COVID to jedyna nadzieja na normalność, ale @pisorgpl nie potrafi. Potrzebujemy zmiany - @PL_2050',\n",
       " 'Gdzie odetchniesz od #COVID? Najlepiej z pandemią radzi sobie... #Watykan. Od 86 dni nie odnotowano tam ani jednego przypadku zakażenia koronawirusem. Warto też wybrać się do #Vanatu, do Nowej Zelandii, na Wyspy Marshalla i Wyspy Salomona. https://t.co/Tvthvi4iTl']"
      ]
     },
     "execution_count": 32,
     "metadata": {},
     "output_type": "execute_result"
    }
   ],
   "source": [
    "r"
   ]
  },
  {
   "cell_type": "code",
   "execution_count": 33,
   "metadata": {},
   "outputs": [],
   "source": [
    "t = translate_tweets(r, language=\"pl\")"
   ]
  },
  {
   "cell_type": "code",
   "execution_count": 34,
   "metadata": {},
   "outputs": [
    {
     "data": {
      "text/plain": [
       "['+ Plus click & amp; collect is to be limited only to the most necessary items, and one of them is NOT coffee! 😡😡😡\\nOh, and the ban on drinking alcohol outside the home. Total.\\n\\n#CORONAVIRUS # COVID19 # Covid_19 #COVID #PANDEMIA #ZARAZA #LOCKDOWN #LockdownUK',\n",
       " \"What's up in European prisons?\\n\\nIn Scotland, Nicola, the Queen of Lockdowns, has banned out-of-the-box takeaways. Only through the threshold, like a dog, or through the window, like in a kebab booth.\\n\\n#CORONAVIRUS # COVID19 # Covid_19 #COVID #PANDEMIA #ZARAZA #LOCKDOWN #LockdownUK\",\n",
       " 'There is no more #COVID in China, yet some city dwellers are locked up at home for a week and still wear face masks. # The Chinese are blowing it cold? https://t.co/PDtbm5gt7Q',\n",
       " 'People who took the first dose of @pfizer and @BioNTech_Group were 33% less likely to test positive for #coronavirus 2 weeks after vaccination from those who did not receive similar protection.\\n\\n# COVID19 #COVID #Israel\\nhttps://t.co/1GlEgSiHER',\n",
       " 'Shield 6.0 extended the possibility of exemption from contributions for July, August and September 2020 to other entrepreneurs.\\n#shield #covid\\n\\nhttps://t.co/3H7lnGfvRE',\n",
       " 'Healthcare workers of the 1st front line of the fight against # COVID-19 - will be supported by the West Pomeranian Anti-Crisis Package. The Management Board will allocate over PLN 15 million for this purpose. @OGeblewicz @SejmikZachPom\\n@Miasto_Szczecin @radio_szczecin @PrezydentSz_n\\nhttps://t.co/NbMnnjyvd7',\n",
       " '#COVID - international comparisons with the same scale on the axes ... https://t.co/MBZSHoMUI2',\n",
       " 'Can any of the wise of this world comment on this?\\n\\nPs I was waiting for such news - in 2 weeks in Poland there will be crying in the #covid wards that people get sick despite the vaccine?\\n\\n#strainmysie\\n#Vaccinations\\n#szczepimysie\\n#vaccines\\n\\nhttps://t.co/7mq0Brh0AD',\n",
       " \"#Covid vaccinations are the only hope for normality, but @pisorgpl can't. We need a change - @ PL_2050\",\n",
       " \"Where will you take a break from #COVID? Best at dealing with a pandemic ... #Vatican. There has not been a single case of coronavirus infection there in 86 days. It's also worth going to #Vanatu, New Zealand, Marshall Islands and Solomon Islands. https://t.co/Tvthvi4iTl\"]"
      ]
     },
     "execution_count": 34,
     "metadata": {},
     "output_type": "execute_result"
    }
   ],
   "source": [
    "t"
   ]
  },
  {
   "cell_type": "code",
   "execution_count": 35,
   "metadata": {},
   "outputs": [],
   "source": [
    "s = get_sentiments(t)"
   ]
  },
  {
   "cell_type": "code",
   "execution_count": 36,
   "metadata": {},
   "outputs": [
    {
     "data": {
      "text/plain": [
       "[0, 0, 0, 0, 1, 1, 0, 0, 0, 1]"
      ]
     },
     "execution_count": 36,
     "metadata": {},
     "output_type": "execute_result"
    }
   ],
   "source": [
    "s"
   ]
  },
  {
   "cell_type": "code",
   "execution_count": 37,
   "metadata": {},
   "outputs": [],
   "source": [
    "def get_name(n):\n",
    "    if n==1:\n",
    "        return \"Positive\"\n",
    "    return \"Negative\""
   ]
  },
  {
   "cell_type": "code",
   "execution_count": 38,
   "metadata": {},
   "outputs": [],
   "source": [
    "summary = [f\"Original tweet: {tweet}\\n Translated tweet: {translation}\\n Sentiment: {get_name(sentiment)}\" for tweet, translation, sentiment in zip(r, t, s)]"
   ]
  },
  {
   "cell_type": "code",
   "execution_count": 39,
   "metadata": {},
   "outputs": [
    {
     "name": "stdout",
     "output_type": "stream",
     "text": [
      "Original tweet: + Do tego click &amp; collect ma być ograniczone tylko do najpotrzebniejszych artykułów, a jednym z nich ponoć NIE JEST kawa! 😡😡😡\n",
      "Aaa i jeszcze zakaz spożycia alkoholu poza domem. Całkowity.\n",
      "\n",
      "#KORONAWIRUS #COVID19 #Covid_19 #COVID #PANDEMIA #ZARAZA #LOCKDOWN #LockdownUK\n",
      " Translated tweet: + Plus click & amp; collect is to be limited only to the most necessary items, and one of them is NOT coffee! 😡😡😡\n",
      "Oh, and the ban on drinking alcohol outside the home. Total.\n",
      "\n",
      "#CORONAVIRUS # COVID19 # Covid_19 #COVID #PANDEMIA #ZARAZA #LOCKDOWN #LockdownUK\n",
      " Sentiment: Negative\n",
      "\n",
      "Original tweet: A co tam słychać w europejskich więzieniach?\n",
      "\n",
      "W Szkocji Nicola Królowa Lockdownów zakazała wydawania posiłków na wynos w lokalach. Tylko przez próg, jak psu, lub przez okienko, jak w budce z kebabem.\n",
      "\n",
      "#KORONAWIRUS #COVID19 #Covid_19 #COVID #PANDEMIA #ZARAZA #LOCKDOWN #LockdownUK\n",
      " Translated tweet: What's up in European prisons?\n",
      "\n",
      "In Scotland, Nicola, the Queen of Lockdowns, has banned out-of-the-box takeaways. Only through the threshold, like a dog, or through the window, like in a kebab booth.\n",
      "\n",
      "#CORONAVIRUS # COVID19 # Covid_19 #COVID #PANDEMIA #ZARAZA #LOCKDOWN #LockdownUK\n",
      " Sentiment: Negative\n",
      "\n",
      "Original tweet: W Chinach nie ma już #COVID, a pomimo tego mieszkańcy niektórych miast zamykani są na tydzień w domu i nadal noszą maseczki. #Chińczycy dmuchają na zimne? https://t.co/PDtbm5gt7Q\n",
      " Translated tweet: There is no more #COVID in China, yet some city dwellers are locked up at home for a week and still wear face masks. # The Chinese are blowing it cold? https://t.co/PDtbm5gt7Q\n",
      " Sentiment: Negative\n",
      "\n",
      "Original tweet: Osoby, które przyjęły pierwszą dawkę szczepionki @pfizer i @BioNTech_Group o 33% rzadziej otrzymują pozytywny wynik testu na obecność #koronawirus po 2 tygodniach od zaszczepienia od osób, które nie otrzymały podobnej ochrony.\n",
      "\n",
      "#COVID19 #COVID #Izrael\n",
      "https://t.co/1GlEgSiHER\n",
      " Translated tweet: People who took the first dose of @pfizer and @BioNTech_Group were 33% less likely to test positive for #coronavirus 2 weeks after vaccination from those who did not receive similar protection.\n",
      "\n",
      "# COVID19 #COVID #Israel\n",
      "https://t.co/1GlEgSiHER\n",
      " Sentiment: Negative\n",
      "\n"
     ]
    }
   ],
   "source": [
    "for s in summary[:4]:\n",
    "    print(s)\n",
    "    print()"
   ]
  },
  {
   "cell_type": "markdown",
   "metadata": {},
   "source": [
    "# Whole pipeline:"
   ]
  },
  {
   "cell_type": "markdown",
   "metadata": {},
   "source": [
    "### Sentiments in Poland:"
   ]
  },
  {
   "cell_type": "code",
   "execution_count": 208,
   "metadata": {},
   "outputs": [],
   "source": [
    "r = run_pipeline(language = 'pl')"
   ]
  },
  {
   "cell_type": "markdown",
   "metadata": {},
   "source": [
    "### Sentiments in Spain:"
   ]
  },
  {
   "cell_type": "code",
   "execution_count": 209,
   "metadata": {},
   "outputs": [],
   "source": [
    "r = run_pipeline(language = 'es')"
   ]
  },
  {
   "cell_type": "markdown",
   "metadata": {},
   "source": [
    "## Languages\n",
    "English (default) en  \n",
    "Arabic  ar  \n",
    "Bengali bn  \n",
    "Czech cs  \n",
    "Danish  da  \n",
    "German  de  \n",
    "Greek el  \n",
    "Spanish es  \n",
    "Persian fa  \n",
    "Finnish fi  \n",
    "Filipino  fil  \n",
    "French  fr  \n",
    "Hebrew  he  \n",
    "Hindi hi  \n",
    "Hungarian hu  \n",
    "Indonesian  id  \n",
    "Italian it  \n",
    "Japanese  ja  \n",
    "Korean  ko  \n",
    "Malay msa  \n",
    "Dutch nl  \n",
    "Norwegian no  \n",
    "Polish  pl  \n",
    "Portuguese  pt  \n",
    "Romanian  ro  \n",
    "Russian ru  \n",
    "Swedish sv  \n",
    "Thai  th  \n",
    "Turkish tr  \n",
    "Ukrainian uk  \n",
    "Urdu  ur  \n",
    "Vietnamese  vi  \n",
    "Chinese (Simplified)  zh-cn  \n",
    "Chinese (Traditional) zh-tw  "
   ]
  },
  {
   "cell_type": "code",
   "execution_count": 53,
   "metadata": {},
   "outputs": [],
   "source": [
    "import time\n",
    "from IPython.display import clear_output\n",
    "import pandas as pd\n",
    "import matplotlib.pyplot as plt \n",
    "import seaborn as sns\n",
    "sns.set_style(\"whitegrid\")"
   ]
  },
  {
   "cell_type": "code",
   "execution_count": 197,
   "metadata": {},
   "outputs": [],
   "source": [
    "def plot_sentiments(results, hashtags):\n",
    "    formatted_data = []\n",
    "    columns=[\"country\", \"percentPos\", \"percentNeut\", \"percentNeg\"]\n",
    "    \n",
    "    for language, data in results.items():\n",
    "        allNumber = len(data)\n",
    "        positiveNumber = len(list(filter(lambda f: f == 1, data)))\n",
    "        neutralNumber = len(list(filter(lambda f: f == 0, data)))\n",
    "        negativeNumber = len(list(filter(lambda f: f == -1, data)))\n",
    "        positivePerc = (positiveNumber / allNumber * 100) if positiveNumber != 0 else 0\n",
    "        neutralPerc = (neutralNumber / allNumber * 100) if neutralNumber != 0 else 0\n",
    "        negativePerc = (negativeNumber / allNumber * 100) if negativeNumber != 0 else 0    \n",
    "        formatted_data.append((language, positivePerc, neutralPerc, negativePerc))\n",
    "        \n",
    "    df = pd.DataFrame(formatted_data, columns=columns)\n",
    "    \n",
    "    df.plot( \n",
    "      x = 'country',  \n",
    "      kind = 'barh',  \n",
    "      stacked = True,  \n",
    "      title = f'Sentiment for tweets with hashtags: {hashtags} per country',\n",
    "      mark_right = True,\n",
    "      color=['g', 'b', 'r'],\n",
    "     figsize=(14,8))\n",
    "    plt.legend([\"Percent of positive tweets\", \"Percent of neutral tweets\", \"Percent of negative tweets\"])\n",
    "    \n",
    "    "
   ]
  },
  {
   "cell_type": "code",
   "execution_count": 225,
   "metadata": {},
   "outputs": [],
   "source": [
    "from IPython.display import Markdown, display\n",
    "\n",
    "def analyze_twitter(languages, hashtags=[\"covid\"], streaming=False):\n",
    "    results = {}\n",
    "    \n",
    "    while True:\n",
    "        clear_output(wait=True)\n",
    "        for language in languages:\n",
    "            pipelineResults = run_pipeline(language=language, hashtags=hashtags, max_results=50)\n",
    "            results[language] = pipelineResults['sentiments']\n",
    "\n",
    "            mostPosScore = round(pipelineResults['mostPositiveText'][0].document_sentiment.score, 2)\n",
    "            mostPosOriginalText = pipelineResults['mostPositiveText'][1]\n",
    "            mostPosEnText = pipelineResults['mostPositiveText'][2]\n",
    "            mostNegScore = round(pipelineResults['mostNegativeText'][0].document_sentiment.score, 2)\n",
    "            mostNegOriginalText = pipelineResults['mostNegativeText'][1]\n",
    "            mostNegEnText = pipelineResults['mostNegativeText'][2]\n",
    "            mostPosSentenceScore = round(pipelineResults['mostPositiveSentence'].sentiment.score, 2)\n",
    "            mostPosSentenceEnText = pipelineResults['mostPositiveSentence'].text.content\n",
    "            mostNegSentenceScore = round(pipelineResults['mostNegativeSentence'].sentiment.score, 2)\n",
    "            mostNegSentenceEnText = pipelineResults['mostNegativeSentence'].text.content\n",
    "            \n",
    "            display(Markdown(f'**Language: {language}**<br>**Most positive tweet ({mostPosScore}):**<br>{mostPosOriginalText}<br>{mostPosEnText}<br>'))\n",
    "            display(Markdown(f'**Most negative tweet ({mostNegScore}):**<br>{mostNegOriginalText}<br>{mostNegEnText}<br>'))\n",
    "            display(Markdown(f'**Most positive sentence ({mostPosSentenceScore}):**<br>{mostPosSentenceEnText}<br>'))\n",
    "            display(Markdown(f'**Most negative sentence ({mostNegSentenceScore}):**<br>{mostNegSentenceEnText}<br>'))\n",
    "            print()\n",
    "            \n",
    "        plot_sentiments(results, hashtags)\n",
    "        if not streaming:\n",
    "            return\n",
    "        plt.show()\n",
    "        time.sleep(10)\n",
    "        "
   ]
  },
  {
   "cell_type": "code",
   "execution_count": 226,
   "metadata": {
    "scrolled": false
   },
   "outputs": [
    {
     "data": {
      "text/markdown": [
       "**Language: pl**<br>**Most positive tweet (0.6):**<br>Best in COVID. Ja som najpepci kridzovy manazer a nikto to nuriadi dobre, jen ja, ja nech si to fseci zapametaju. https://t.co/OMkIuvLVpT<br>Best in COVID. I am the best of the Kridzovy manager and Nikto is a good nuriadi, I am not a fist. https://t.co/OMkIuvLVpT<br>"
      ],
      "text/plain": [
       "<IPython.core.display.Markdown object>"
      ]
     },
     "metadata": {},
     "output_type": "display_data"
    },
    {
     "data": {
      "text/markdown": [
       "**Most negative tweet (-0.8):**<br>@marwinhit twierdzi ze to czy zachoruje na covid to jest decyzja boga<br>@marwinhit says it is god's decision to get sick with covid<br>"
      ],
      "text/plain": [
       "<IPython.core.display.Markdown object>"
      ]
     },
     "metadata": {},
     "output_type": "display_data"
    },
    {
     "data": {
      "text/markdown": [
       "**Most positive sentence (0.9):**<br>Best in COVID.<br>"
      ],
      "text/plain": [
       "<IPython.core.display.Markdown object>"
      ]
     },
     "metadata": {},
     "output_type": "display_data"
    },
    {
     "data": {
      "text/markdown": [
       "**Most negative sentence (-0.8):**<br>However, this order causes internal problems for the ruling Erdoğan.<br>"
      ],
      "text/plain": [
       "<IPython.core.display.Markdown object>"
      ]
     },
     "metadata": {},
     "output_type": "display_data"
    },
    {
     "name": "stdout",
     "output_type": "stream",
     "text": [
      "\n"
     ]
    },
    {
     "data": {
      "text/markdown": [
       "**Language: en**<br>**Most positive tweet (0.5):**<br>Our friends in Cape Breton saw an increase in demand for homes in 2020, with buyers coming from across Nova Scotia, and beyond. https://t.co/RAgNzlmDhh<br>Our friends in Cape Breton saw an increase in demand for homes in 2020, with buyers coming from across Nova Scotia, and beyond. https://t.co/RAgNzlmDhh<br>"
      ],
      "text/plain": [
       "<IPython.core.display.Markdown object>"
      ]
     },
     "metadata": {},
     "output_type": "display_data"
    },
    {
     "data": {
      "text/markdown": [
       "**Most negative tweet (-0.8):**<br>@DavidNdii @GovWOparanya Oparanya this is such reckless pronouncement. Healthcare workers sacrificed themselves and families to fight covid. And you are talking nonsense!<br>@DavidNdii @GovWOparanya Oparanya this is such reckless pronouncement. Healthcare workers sacrificed themselves and families to fight covid. And you are talking nonsense!<br>"
      ],
      "text/plain": [
       "<IPython.core.display.Markdown object>"
      ]
     },
     "metadata": {},
     "output_type": "display_data"
    },
    {
     "data": {
      "text/markdown": [
       "**Most positive sentence (0.9):**<br>@JacobJaber YES YES YES!<br>"
      ],
      "text/plain": [
       "<IPython.core.display.Markdown object>"
      ]
     },
     "metadata": {},
     "output_type": "display_data"
    },
    {
     "data": {
      "text/markdown": [
       "**Most negative sentence (-0.9):**<br>And you are talking nonsense!<br>"
      ],
      "text/plain": [
       "<IPython.core.display.Markdown object>"
      ]
     },
     "metadata": {},
     "output_type": "display_data"
    },
    {
     "name": "stdout",
     "output_type": "stream",
     "text": [
      "\n"
     ]
    },
    {
     "data": {
      "text/markdown": [
       "**Language: de**<br>**Most positive tweet (0.4):**<br>@_FriedrichMerz @ZDF @EvaQuadbeck Es gibt eine bis zu 100% sichere Brücke zur Impfung! \n",
       "\n",
       "Bitte weiterleiten an Ärzte, insbesondere auf Intensivstationen!\n",
       "\n",
       "Die Protokolle können zusätzlich zur Prophylaxe verwendet werden!\n",
       "\n",
       "https://t.co/StXxKy8PGC\n",
       "\n",
       "Hintergrundinformationen siehe Thread unten:https://t.co/yOtNBoFVCE https://t.co/oQPnK6z2Td<br>@_FriedrichMerz @ZDF @EvaQuadbeck There is a 100% safe bridge to vaccination!\n",
       "\n",
       "Please forward to doctors, especially in intensive care units!\n",
       "\n",
       "The protocols can also be used for prophylaxis!\n",
       "\n",
       "https://t.co/StXxKy8PGC\n",
       "\n",
       "For background information, see the thread below: https: //t.co/yOtNBoFVCE https://t.co/oQPnK6z2Td<br>"
      ],
      "text/plain": [
       "<IPython.core.display.Markdown object>"
      ]
     },
     "metadata": {},
     "output_type": "display_data"
    },
    {
     "data": {
      "text/markdown": [
       "**Most negative tweet (-0.7):**<br>@reitschuster Dem Glauben muss man Fakten entgegen setzen. \n",
       "https://t.co/4ICj2dYCaJ\n",
       "Die #Corona-Panik ist ein ideologisches Konstrukt, um die gegenwärtige Gesellschaftsordnung zu zerstören.<br>@reitschuster Faith has to be countered with facts.\n",
       "https://t.co/4ICj2dYCaJ\n",
       "The #corona panic is an ideological construct to destroy the current social order.<br>"
      ],
      "text/plain": [
       "<IPython.core.display.Markdown object>"
      ]
     },
     "metadata": {},
     "output_type": "display_data"
    },
    {
     "data": {
      "text/markdown": [
       "**Most positive sentence (0.9):**<br>This topic is close to my heart.<br>"
      ],
      "text/plain": [
       "<IPython.core.display.Markdown object>"
      ]
     },
     "metadata": {},
     "output_type": "display_data"
    },
    {
     "data": {
      "text/markdown": [
       "**Most negative sentence (-0.9):**<br>The Red Cross hypocrite spreads fear and terror among people for no reason and without any evidence!<br>"
      ],
      "text/plain": [
       "<IPython.core.display.Markdown object>"
      ]
     },
     "metadata": {},
     "output_type": "display_data"
    },
    {
     "name": "stdout",
     "output_type": "stream",
     "text": [
      "\n"
     ]
    },
    {
     "data": {
      "text/markdown": [
       "**Language: fr**<br>**Most positive tweet (0.9):**<br>@Francois_Ruffin merci François, j'ai 3 enfants, 2 post bac et un lyceen..et je suis infirmier psy ( j'ai aussi été positif covid comme un de mes gosses)... Merci François de penser a eux, de parler pour eux..tu m'as foutu les larmes aux yeux...Merci François....<br>@Francois_Ruffin thank you François, I have 3 children, 2 post-bac and a high school student .. and I am a psych nurse (I was also positive covid as one of my kids) ... Thank you François for thinking of them, for talking for them..you brought tears to my eyes ... Thank you François ....<br>"
      ],
      "text/plain": [
       "<IPython.core.display.Markdown object>"
      ]
     },
     "metadata": {},
     "output_type": "display_data"
    },
    {
     "data": {
      "text/markdown": [
       "**Most negative tweet (-0.8):**<br>@SagittariusHH Le gars il se sent plus agressé par un voisin bronzé que par le COVID.<br>@SagittariusHH The guy he feels assaulted more by a tanned neighbor than by COVID.<br>"
      ],
      "text/plain": [
       "<IPython.core.display.Markdown object>"
      ]
     },
     "metadata": {},
     "output_type": "display_data"
    },
    {
     "data": {
      "text/markdown": [
       "**Most positive sentence (0.9):**<br>@DrManaouda Hello excellence.<br>"
      ],
      "text/plain": [
       "<IPython.core.display.Markdown object>"
      ]
     },
     "metadata": {},
     "output_type": "display_data"
    },
    {
     "data": {
      "text/markdown": [
       "**Most negative sentence (-0.8):**<br>@SagittariusHH The guy he feels assaulted more by a tanned neighbor than by COVID.<br>"
      ],
      "text/plain": [
       "<IPython.core.display.Markdown object>"
      ]
     },
     "metadata": {},
     "output_type": "display_data"
    },
    {
     "name": "stdout",
     "output_type": "stream",
     "text": [
      "\n"
     ]
    },
    {
     "data": {
      "text/markdown": [
       "**Language: ru**<br>**Most positive tweet (0.5):**<br>Наконец-то. https://t.co/2MH0RgjNwU<br>At last. https://t.co/2MH0RgjNwU<br>"
      ],
      "text/plain": [
       "<IPython.core.display.Markdown object>"
      ]
     },
     "metadata": {},
     "output_type": "display_data"
    },
    {
     "data": {
      "text/markdown": [
       "**Most negative tweet (-0.8):**<br>Хакеры слили в сеть похищенные данные о COVID-вакцинах Pfizer и Moderna\n",
       "https://t.co/E5JGbQattK https://t.co/cv7gxKUuBq<br>Hackers leaked stolen data on Pfizer and Moderna COVID vaccines\n",
       "https://t.co/E5JGbQattK https://t.co/cv7gxKUuBq<br>"
      ],
      "text/plain": [
       "<IPython.core.display.Markdown object>"
      ]
     },
     "metadata": {},
     "output_type": "display_data"
    },
    {
     "data": {
      "text/markdown": [
       "**Most positive sentence (0.8):**<br>Everything you need to know about mass vaccination in Russia<br>"
      ],
      "text/plain": [
       "<IPython.core.display.Markdown object>"
      ]
     },
     "metadata": {},
     "output_type": "display_data"
    },
    {
     "data": {
      "text/markdown": [
       "**Most negative sentence (-0.9):**<br>\"It's worse than World War II.\"<br>"
      ],
      "text/plain": [
       "<IPython.core.display.Markdown object>"
      ]
     },
     "metadata": {},
     "output_type": "display_data"
    },
    {
     "name": "stdout",
     "output_type": "stream",
     "text": [
      "\n"
     ]
    },
    {
     "data": {
      "text/markdown": [
       "**Language: zh**<br>**Most positive tweet (0.3):**<br>إن رزقت بالصحة قدم الخير للآخرين بقدر ما تستطيع .💖🙏💖\n",
       "If you earn health, do good to others as much as you can .\n",
       "如果您能健康，就尽可能多地对他人好 。\n",
       "\n",
       "#تحديات فترة Covid 19 #<br>إن رزقت بالصحة قدم الخير للآخرين بقدر ما تستطيع .💖🙏💖\n",
       "If you earn health, do good to others as much as you can.\n",
       "If you are healthy, treat others as much as possible.\n",
       "\n",
       "#تحديات فترة Covid 19 #<br>"
      ],
      "text/plain": [
       "<IPython.core.display.Markdown object>"
      ]
     },
     "metadata": {},
     "output_type": "display_data"
    },
    {
     "data": {
      "text/markdown": [
       "**Most negative tweet (-0.8):**<br>川普政府将抛出“重磅炸弹”——病毒是中共制造 \n",
       "Trump team will blame China lab for growing Covid-19 https://t.co/m4ClIkSELi via @MailOnline<br>The Trump administration will throw a \"blockbuster\"-the virus is made by the CCP\n",
       "Trump team will blame China lab for growing Covid-19 https://t.co/m4ClIkSELi via @MailOnline<br>"
      ],
      "text/plain": [
       "<IPython.core.display.Markdown object>"
      ]
     },
     "metadata": {},
     "output_type": "display_data"
    },
    {
     "data": {
      "text/markdown": [
       "**Most positive sentence (0.9):**<br>Authentic, conservative and traditional.<br>"
      ],
      "text/plain": [
       "<IPython.core.display.Markdown object>"
      ]
     },
     "metadata": {},
     "output_type": "display_data"
    },
    {
     "data": {
      "text/markdown": [
       "**Most negative sentence (-0.9):**<br>We feel afraid of COVID-19.<br>"
      ],
      "text/plain": [
       "<IPython.core.display.Markdown object>"
      ]
     },
     "metadata": {},
     "output_type": "display_data"
    },
    {
     "name": "stdout",
     "output_type": "stream",
     "text": [
      "\n"
     ]
    },
    {
     "data": {
      "image/png": "[encoded data removed]",
      "text/plain": [
       "<Figure size 1008x576 with 1 Axes>"
      ]
     },
     "metadata": {
      "needs_background": "light"
     },
     "output_type": "display_data"
    }
   ],
   "source": [
    "analyze_twitter(['pl', 'en', 'de', 'fr', 'ru', 'zh'], [\"covid\"])"
   ]
  },
  {
   "cell_type": "code",
   "execution_count": null,
   "metadata": {
    "scrolled": false
   },
   "outputs": [
    {
     "data": {
      "text/markdown": [
       "**Language: pl**<br>**Most positive tweet (0.4):**<br>@Anna13710076 Tu każdy znaczy tyle samo. Nawet Trump ;)<br>@ Anna13710076 Here everyone means the same. Even Trump;)<br>"
      ],
      "text/plain": [
       "<IPython.core.display.Markdown object>"
      ]
     },
     "metadata": {},
     "output_type": "display_data"
    },
    {
     "data": {
      "text/markdown": [
       "**Most negative tweet (-0.8):**<br>To, że Trump będzie jedynym prezydentem USA dwukrotnie poddanym impeachmentowi, nie wydaje świadectwa jemu - raczej Partii Republikańskiej, która nie skorzystała z okazji do odcięcia się od swoich błędów.<br>The fact that Trump will be the only U.S. president who has been impeached twice does not bear witness to him - rather, to the Republican Party that did not take the opportunity to distance itself from its mistakes.<br>"
      ],
      "text/plain": [
       "<IPython.core.display.Markdown object>"
      ]
     },
     "metadata": {},
     "output_type": "display_data"
    },
    {
     "data": {
      "text/markdown": [
       "**Most positive sentence (0.9):**<br>McConnell plays it beautifully ...<br>"
      ],
      "text/plain": [
       "<IPython.core.display.Markdown object>"
      ]
     },
     "metadata": {},
     "output_type": "display_data"
    },
    {
     "data": {
      "text/markdown": [
       "**Most negative sentence (-0.9):**<br>@ EmilBrunner1 Because you're stupid.<br>"
      ],
      "text/plain": [
       "<IPython.core.display.Markdown object>"
      ]
     },
     "metadata": {},
     "output_type": "display_data"
    },
    {
     "name": "stdout",
     "output_type": "stream",
     "text": [
      "\n"
     ]
    },
    {
     "data": {
      "text/markdown": [
       "**Language: en**<br>**Most positive tweet (0.3):**<br>@dopre @mikeoffoftheuk @BreitbartNews Trump has been more than a TV star and his show was more worthwhile than stupid phoney baloney liberal reality shows like The Bachelor and Survivor.<br>@dopre @mikeoffoftheuk @BreitbartNews Trump has been more than a TV star and his show was more worthwhile than stupid phoney baloney liberal reality shows like The Bachelor and Survivor.<br>"
      ],
      "text/plain": [
       "<IPython.core.display.Markdown object>"
      ]
     },
     "metadata": {},
     "output_type": "display_data"
    },
    {
     "data": {
      "text/markdown": [
       "**Most negative tweet (-0.9):**<br>@CNN @lukemcgee Trump is a piece of shit.<br>@CNN @lukemcgee Trump is a piece of shit.<br>"
      ],
      "text/plain": [
       "<IPython.core.display.Markdown object>"
      ]
     },
     "metadata": {},
     "output_type": "display_data"
    },
    {
     "data": {
      "text/markdown": [
       "**Most positive sentence (0.9):**<br>Really interesting if true.<br>"
      ],
      "text/plain": [
       "<IPython.core.display.Markdown object>"
      ]
     },
     "metadata": {},
     "output_type": "display_data"
    },
    {
     "data": {
      "text/markdown": [
       "**Most negative sentence (-0.9):**<br>She is an embarrassment to the US<br>"
      ],
      "text/plain": [
       "<IPython.core.display.Markdown object>"
      ]
     },
     "metadata": {},
     "output_type": "display_data"
    },
    {
     "name": "stdout",
     "output_type": "stream",
     "text": [
      "\n"
     ]
    },
    {
     "data": {
      "text/markdown": [
       "**Language: de**<br>**Most positive tweet (0.3):**<br>#Trump ist einfach der Beste. Mit seinem schlechten Wahlkampf, dem völlig uninformiert sein über Fake und echte Wahlmanipulationen und seinem völligen Vergeigen am 06.01. hat er allen die Chance gegeben, sich von ihm zu lösen. Er ist der Beste.<br>#Trump is just the best. With his bad election campaign, being completely uninformed about fake and real election manipulation and his complete messing up on January 6th. he gave everyone the chance to break away from him. He is the best.<br>"
      ],
      "text/plain": [
       "<IPython.core.display.Markdown object>"
      ]
     },
     "metadata": {},
     "output_type": "display_data"
    },
    {
     "data": {
      "text/markdown": [
       "**Most negative tweet (-0.8):**<br>@tazgezwitscher Biden bekommt bei seiner Veidigung keinen roten Teppich ausgerollt, sondern einen Teppich voller Leichen, die Trump durch seine Ignoranz, Verleumdungen u. Lügen, Hetze u. Hass hinterlässt. Ehrlich, auf diesen Teppich möchte ich nicht gehen.<br>@tazgezwitscher Biden does not get a red carpet rolled out during his defense, but a carpet full of corpses that Trump leaves behind through his ignorance, slander and lies, agitation and hatred. Honestly, I don't want to walk on this carpet.<br>"
      ],
      "text/plain": [
       "<IPython.core.display.Markdown object>"
      ]
     },
     "metadata": {},
     "output_type": "display_data"
    },
    {
     "data": {
      "text/markdown": [
       "**Most positive sentence (0.9):**<br>#Trump is just the best.<br>"
      ],
      "text/plain": [
       "<IPython.core.display.Markdown object>"
      ]
     },
     "metadata": {},
     "output_type": "display_data"
    },
    {
     "data": {
      "text/markdown": [
       "**Most negative sentence (-0.9):**<br>Trump should be ashamed!<br>"
      ],
      "text/plain": [
       "<IPython.core.display.Markdown object>"
      ]
     },
     "metadata": {},
     "output_type": "display_data"
    },
    {
     "name": "stdout",
     "output_type": "stream",
     "text": [
      "\n"
     ]
    },
    {
     "data": {
      "text/markdown": [
       "**Language: fr**<br>**Most positive tweet (0.9):**<br>@Trump_Fact_News @herve_ferrant Remercions les d’être là pour nous 🙏<br>@Trump_Fact_News @herve_ferrant Thank them for being there for us 🙏<br>"
      ],
      "text/plain": [
       "<IPython.core.display.Markdown object>"
      ]
     },
     "metadata": {},
     "output_type": "display_data"
    },
    {
     "data": {
      "text/markdown": [
       "**Most negative tweet (-0.7):**<br>si Trump n'est pas destitué, je ne vois pas qu'est-ce qui pourrait permettre une destitution d'un prochain Président des États-Unis dans le future, il me semble que Trump coche toutes les cases<br>if Trump is not impeached I do not see what could lead to impeachment of a next President of the United States in the future, it seems to me that Trump ticks all the boxes<br>"
      ],
      "text/plain": [
       "<IPython.core.display.Markdown object>"
      ]
     },
     "metadata": {},
     "output_type": "display_data"
    },
    {
     "data": {
      "text/markdown": [
       "**Most positive sentence (0.9):**<br>@Trump_Fact_News @herve_ferrant Thank them for being there for us 🙏<br>"
      ],
      "text/plain": [
       "<IPython.core.display.Markdown object>"
      ]
     },
     "metadata": {},
     "output_type": "display_data"
    },
    {
     "data": {
      "text/markdown": [
       "**Most negative sentence (-0.9):**<br>@PatriceRoyTJ then where are all your Republicans who voted for the impeachment of Trump I would be embarrassed of your FakeNews to manipulate people less stingy with the search for the truth ...<br>"
      ],
      "text/plain": [
       "<IPython.core.display.Markdown object>"
      ]
     },
     "metadata": {},
     "output_type": "display_data"
    },
    {
     "name": "stdout",
     "output_type": "stream",
     "text": [
      "\n"
     ]
    }
   ],
   "source": [
    "analyze_twitter(['pl', 'en', 'de', 'fr', 'ru', 'zh'], [\"trump\"])"
   ]
  },
  {
   "cell_type": "code",
   "execution_count": null,
   "metadata": {},
   "outputs": [],
   "source": []
  }
 ],
 "metadata": {
  "kernelspec": {
   "display_name": "Python 3",
   "language": "python",
   "name": "python3"
  },
  "language_info": {
   "codemirror_mode": {
    "name": "ipython",
    "version": 3
   },
   "file_extension": ".py",
   "mimetype": "text/x-python",
   "name": "python",
   "nbconvert_exporter": "python",
   "pygments_lexer": "ipython3",
   "version": "3.7.0"
  }
 },
 "nbformat": 4,
 "nbformat_minor": 4
}
